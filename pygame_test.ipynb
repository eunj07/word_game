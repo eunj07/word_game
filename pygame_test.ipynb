{
 "cells": [
  {
   "cell_type": "markdown",
   "metadata": {},
   "source": [
    "# pygame 모듈 테스트"
   ]
  },
  {
   "cell_type": "code",
   "execution_count": 4,
   "metadata": {},
   "outputs": [],
   "source": [
    "from pygame import mixer\n",
    "mixer.init() #미디어 파일을 사용하기 위한 초기화\n",
    "\n",
    "mixer.music.load('assets/good.wav') #소리파일 path\n",
    "mixer.music.play()"
   ]
  },
  {
   "cell_type": "code",
   "execution_count": 5,
   "metadata": {},
   "outputs": [],
   "source": [
    "mixer.music.load('assets/bad.wav') #소리파일 path\n",
    "mixer.music.play()"
   ]
  },
  {
   "cell_type": "code",
   "execution_count": 13,
   "metadata": {},
   "outputs": [],
   "source": [
    "import random\n",
    "import time\n",
    "def gamerun():\n",
    "\n",
    "# 텍스트 파일 경로\n",
    "    file_path = \"data/word.txt\"\n",
    "\n",
    "# 파일 열기\n",
    "    with open(file_path, 'r', encoding='utf-8') as file:\n",
    "    # 파일의 각 줄을 리스트로 저장\n",
    "        words = file.readlines()\n",
    "\n",
    "# 각 줄의 앞뒤 공백 제거\n",
    "    words = [line.strip() for line in words]\n",
    "\n",
    "# 결과 출력\n",
    "    print(words)"
   ]
  },
  {
   "cell_type": "code",
   "execution_count": 2,
   "metadata": {},
   "outputs": [
    {
     "ename": "IndentationError",
     "evalue": "unexpected indent (479890104.py, line 16)",
     "output_type": "error",
     "traceback": [
      "\u001b[1;36m  Cell \u001b[1;32mIn[2], line 16\u001b[1;36m\u001b[0m\n\u001b[1;33m    print(\"오답\")\u001b[0m\n\u001b[1;37m    ^\u001b[0m\n\u001b[1;31mIndentationError\u001b[0m\u001b[1;31m:\u001b[0m unexpected indent\n"
     ]
    }
   ],
   "source": [
    "correct_count = 0\n",
    "start_time = time.time()\n",
    "\n",
    "for i in range(5):\n",
    "    # 임의의 단어 선택 (리스트에서 하나를 랜덤으로 선택)\n",
    "    a = random.choice(words)\n",
    "\n",
    "    print(f\"Question #{i+1}: {a}\")\n",
    "\n",
    "    user_input = input(\"준비됐으면 문자를 입력하세요: \").strip()\n",
    "\n",
    "    if user_input == a:\n",
    "        print(\"정답\")\n",
    "        correct_count += 1\n",
    "    else:a\n",
    "        print(\"오답\")\n",
    "\n",
    "end_time = time.time()\n",
    "b_time = end_time - start_time\n",
    "\n",
    "if correct_count >= 3:\n",
    "    print(\"합격입니다.\")\n",
    "    mixer.music.load('assets/good.wav') #소리파일 path\n",
    "    mixer.music.play() # 합격이면 good 소리 재생\n",
    "else:\n",
    "    print(\"불합격입니다.\")\n",
    "    mixer.music.load('assets/bad.wav') #소리파일 path\n",
    "    mixer.music.play()\n",
    "\n",
    "print(f\"게임 걸린 시간 : {b_time}초  맞춘 개수: {correct_count}개\")\n",
    "\n",
    "gamerun()"
   ]
  },
  {
   "cell_type": "code",
   "execution_count": 20,
   "metadata": {},
   "outputs": [
    {
     "name": "stdout",
     "output_type": "stream",
     "text": [
      "Question #1: rica\n",
      "정답\n",
      "Question #2: cgi\n",
      "정답\n",
      "Question #3: commit\n",
      "오답\n",
      "Question #4: beach\n",
      "정답\n",
      "Question #5: favorite\n",
      "오답\n",
      "합격입니다.\n",
      "게임 걸린 시간 : 15.212959051132202초  맞춘 개수: 3개\n"
     ]
    }
   ],
   "source": [
    "from pygame import mixer\n",
    "mixer.init() #미디어 파일을 사용하기 위한 초기화\n",
    "\n",
    "mixer.music.load('assets/good.wav') #소리파일 path\n",
    "mixer.music.play()\n",
    "\n",
    "mixer.music.load('assets/bad.wav') #소리파일 path\n",
    "mixer.music.play()\n",
    "\n",
    "import random\n",
    "import time\n",
    "def gamerun():\n",
    "\n",
    "# 텍스트 파일 경로\n",
    "    file_path = \"data/word.txt\"\n",
    "    words = []\n",
    "\n",
    "# 파일 열기\n",
    "    with open(file_path, 'r', encoding='utf-8') as file:\n",
    "    # 파일의 각 줄을 리스트로 저장\n",
    "        words = file.readlines()\n",
    "\n",
    "# 각 줄의 앞뒤 공백 제거\n",
    "        words = [line.strip() for line in words]\n",
    "\n",
    "        correct_count = 0\n",
    "        start_time = time.time()\n",
    "\n",
    "        for i in range(5):\n",
    "            # 임의의 단어 선택 (리스트에서 하나를 랜덤으로 선택)\n",
    "            a = random.choice(words)\n",
    "\n",
    "            print(f\"Question #{i+1}: {a}\")\n",
    "\n",
    "            user_input = input(\"준비됐으면 문자를 입력하세요: \").strip()\n",
    "\n",
    "            if user_input == a:\n",
    "                print(\"정답\")\n",
    "                correct_count += 1\n",
    "            else:\n",
    "                print(\"오답\")\n",
    "\n",
    "    end_time = time.time()\n",
    "    b_time = end_time - start_time\n",
    "\n",
    "    if correct_count >= 3:\n",
    "        print(\"합격입니다.\")\n",
    "        mixer.music.load('assets/good.wav') #소리파일 path\n",
    "        mixer.music.play() # 합격이면 good 소리 재생\n",
    "    else:\n",
    "        print(\"불합격입니다.\")\n",
    "        mixer.music.load('assets/bad.wav') #소리파일 path\n",
    "        mixer.music.play()\n",
    "\n",
    "\n",
    "    print(f\"게임 걸린 시간 : {b_time}초  맞춘 개수: {correct_count}개\")\n",
    "\n",
    "words = gamerun()"
   ]
  },
  {
   "cell_type": "code",
   "execution_count": null,
   "metadata": {},
   "outputs": [],
   "source": []
  }
 ],
 "metadata": {
  "kernelspec": {
   "display_name": "Python 3",
   "language": "python",
   "name": "python3"
  },
  "language_info": {
   "codemirror_mode": {
    "name": "ipython",
    "version": 3
   },
   "file_extension": ".py",
   "mimetype": "text/x-python",
   "name": "python",
   "nbconvert_exporter": "python",
   "pygments_lexer": "ipython3",
   "version": "3.12.8"
  }
 },
 "nbformat": 4,
 "nbformat_minor": 2
}
